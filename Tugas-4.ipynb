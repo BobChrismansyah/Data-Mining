{
  "nbformat": 4,
  "nbformat_minor": 0,
  "metadata": {
    "colab": {
      "name": "Bob.ipynb",
      "provenance": [],
      "collapsed_sections": [],
      "include_colab_link": true
    },
    "kernelspec": {
      "name": "python3",
      "display_name": "Python 3"
    },
    "language_info": {
      "name": "python"
    }
  },
  "cells": [
    {
      "cell_type": "markdown",
      "metadata": {
        "id": "view-in-github",
        "colab_type": "text"
      },
      "source": [
        "<a href=\"https://colab.research.google.com/github/BobChrismansyah/Data-Mining/blob/main/Tugas4_H07120108_BobChrismansyah.ipynb\" target=\"_parent\"><img src=\"https://colab.research.google.com/assets/colab-badge.svg\" alt=\"Open In Colab\"/></a>"
      ]
    },
    {
      "cell_type": "markdown",
      "metadata": {
        "id": "vlMxyzAC3-pV"
      },
      "source": [
        "## Nama : Bob Chrismansyah Pata'dungan Kabanga\n",
        "\n",
        "## NIM : H071201087\n",
        "\n",
        "## Prodi : Sistem Informasi"
      ]
    },
    {
      "cell_type": "markdown",
      "metadata": {
        "id": "ZCQWmxP2sSma"
      },
      "source": [
        "### DATA INTEGRATION"
      ]
    },
    {
      "cell_type": "markdown",
      "metadata": {
        "id": "m4NWLLbssYQa"
      },
      "source": [
        "Data integration adalah beberapa data set yang digabungkan dimana data itu berasal dari sumber yang berbeda, dan hasil pengkombinasian itu akan disimpan ke penyimpanan misalnya data warehouse. Integrasi data bermanfaat agar terhindar dari duplikat data, jika terdapat duplikat data maka proses yang akan dilakukan akan terganggu, hasil analisispun tidak konsisten."
      ]
    },
    {
      "cell_type": "markdown",
      "metadata": {
        "id": "qaSC2vK00W7y"
      },
      "source": [
        "## **Prepocessing**"
      ]
    },
    {
      "cell_type": "markdown",
      "metadata": {
        "id": "87VRwR_bsLXD"
      },
      "source": [
        ""
      ]
    },
    {
      "cell_type": "code",
      "metadata": {
        "id": "0BnxPWSTxddm"
      },
      "source": [
        "import pandas as pd\n",
        "import matplotlib\n",
        "import matplotlib.pyplot as plt"
      ],
      "execution_count": 3,
      "outputs": []
    },
    {
      "cell_type": "code",
      "metadata": {
        "id": "ueJBX4-eyMX3"
      },
      "source": [
        "df = pd.read_csv(\"Fish.csv\")"
      ],
      "execution_count": 4,
      "outputs": []
    },
    {
      "cell_type": "markdown",
      "metadata": {
        "id": "tLzfdhjgphsP"
      },
      "source": [
        ""
      ]
    },
    {
      "cell_type": "code",
      "metadata": {
        "colab": {
          "base_uri": "https://localhost:8080/",
          "height": 204
        },
        "id": "xV6fYjlJyOyG",
        "outputId": "d0ee1f71-7abc-4931-fedc-37d831624b61"
      },
      "source": [
        "df.head()"
      ],
      "execution_count": 5,
      "outputs": [
        {
          "output_type": "execute_result",
          "data": {
            "text/html": [
              "<div>\n",
              "<style scoped>\n",
              "    .dataframe tbody tr th:only-of-type {\n",
              "        vertical-align: middle;\n",
              "    }\n",
              "\n",
              "    .dataframe tbody tr th {\n",
              "        vertical-align: top;\n",
              "    }\n",
              "\n",
              "    .dataframe thead th {\n",
              "        text-align: right;\n",
              "    }\n",
              "</style>\n",
              "<table border=\"1\" class=\"dataframe\">\n",
              "  <thead>\n",
              "    <tr style=\"text-align: right;\">\n",
              "      <th></th>\n",
              "      <th>Species</th>\n",
              "      <th>Weight</th>\n",
              "      <th>Length1</th>\n",
              "      <th>Length2</th>\n",
              "      <th>Length3</th>\n",
              "      <th>Height</th>\n",
              "      <th>Width</th>\n",
              "    </tr>\n",
              "  </thead>\n",
              "  <tbody>\n",
              "    <tr>\n",
              "      <th>0</th>\n",
              "      <td>Bream</td>\n",
              "      <td>242.0</td>\n",
              "      <td>23.2</td>\n",
              "      <td>25.4</td>\n",
              "      <td>30.0</td>\n",
              "      <td>11.5200</td>\n",
              "      <td>4.0200</td>\n",
              "    </tr>\n",
              "    <tr>\n",
              "      <th>1</th>\n",
              "      <td>Bream</td>\n",
              "      <td>290.0</td>\n",
              "      <td>24.0</td>\n",
              "      <td>26.3</td>\n",
              "      <td>31.2</td>\n",
              "      <td>12.4800</td>\n",
              "      <td>4.3056</td>\n",
              "    </tr>\n",
              "    <tr>\n",
              "      <th>2</th>\n",
              "      <td>Bream</td>\n",
              "      <td>340.0</td>\n",
              "      <td>23.9</td>\n",
              "      <td>26.5</td>\n",
              "      <td>31.1</td>\n",
              "      <td>12.3778</td>\n",
              "      <td>4.6961</td>\n",
              "    </tr>\n",
              "    <tr>\n",
              "      <th>3</th>\n",
              "      <td>Bream</td>\n",
              "      <td>363.0</td>\n",
              "      <td>26.3</td>\n",
              "      <td>29.0</td>\n",
              "      <td>33.5</td>\n",
              "      <td>12.7300</td>\n",
              "      <td>4.4555</td>\n",
              "    </tr>\n",
              "    <tr>\n",
              "      <th>4</th>\n",
              "      <td>Bream</td>\n",
              "      <td>430.0</td>\n",
              "      <td>26.5</td>\n",
              "      <td>29.0</td>\n",
              "      <td>34.0</td>\n",
              "      <td>12.4440</td>\n",
              "      <td>5.1340</td>\n",
              "    </tr>\n",
              "  </tbody>\n",
              "</table>\n",
              "</div>"
            ],
            "text/plain": [
              "  Species  Weight  Length1  Length2  Length3   Height   Width\n",
              "0   Bream   242.0     23.2     25.4     30.0  11.5200  4.0200\n",
              "1   Bream   290.0     24.0     26.3     31.2  12.4800  4.3056\n",
              "2   Bream   340.0     23.9     26.5     31.1  12.3778  4.6961\n",
              "3   Bream   363.0     26.3     29.0     33.5  12.7300  4.4555\n",
              "4   Bream   430.0     26.5     29.0     34.0  12.4440  5.1340"
            ]
          },
          "metadata": {},
          "execution_count": 5
        }
      ]
    },
    {
      "cell_type": "markdown",
      "metadata": {
        "id": "q8926iKnp2yJ"
      },
      "source": [
        "Kembalikan objek berukuran sama boolean yang menunjukkan jika nilainya NA. Nilai NA, seperti None atau numpy.NaN, dipetakan ke nilai True"
      ]
    },
    {
      "cell_type": "code",
      "metadata": {
        "colab": {
          "base_uri": "https://localhost:8080/"
        },
        "id": "t0KfKznRyeMX",
        "outputId": "c0de4e5d-28ef-4da2-8afe-f3c1aa541ec8"
      },
      "source": [
        "df.isnull().sum()"
      ],
      "execution_count": 6,
      "outputs": [
        {
          "output_type": "execute_result",
          "data": {
            "text/plain": [
              "Species    0\n",
              "Weight     0\n",
              "Length1    0\n",
              "Length2    0\n",
              "Length3    0\n",
              "Height     0\n",
              "Width      0\n",
              "dtype: int64"
            ]
          },
          "metadata": {},
          "execution_count": 6
        }
      ]
    },
    {
      "cell_type": "markdown",
      "metadata": {
        "id": "1hZOT6LfqMRg"
      },
      "source": [
        "Menampilkan baris yang seri\n"
      ]
    },
    {
      "cell_type": "code",
      "metadata": {
        "colab": {
          "base_uri": "https://localhost:8080/"
        },
        "id": "fXRj-xs4yhEf",
        "outputId": "0e58680f-a3b3-468d-c5d0-ee12b1081f99"
      },
      "source": [
        "df[\"Species\"].value_counts()"
      ],
      "execution_count": 7,
      "outputs": [
        {
          "output_type": "execute_result",
          "data": {
            "text/plain": [
              "Perch        56\n",
              "Bream        35\n",
              "Roach        20\n",
              "Pike         17\n",
              "Smelt        14\n",
              "Parkki       11\n",
              "Whitefish     6\n",
              "Name: Species, dtype: int64"
            ]
          },
          "metadata": {},
          "execution_count": 7
        }
      ]
    },
    {
      "cell_type": "code",
      "metadata": {
        "colab": {
          "base_uri": "https://localhost:8080/"
        },
        "id": "JPRw_8Riyl4I",
        "outputId": "ccdb7d03-c8ee-4bc7-e105-c4c55cd6d70b"
      },
      "source": [
        "cleanup_nums = {\"Species\":     {\"Perch\": 1.0, \"Bream\": 2.0, \"Roach\":3.0,\"Pike\":4.0,\"Smelt\":5.0,\"Parkki\":6.0,\"Whitefish\":7.0}}\n",
        "df.replace(cleanup_nums, inplace=True)\n",
        "df.head()\n",
        "df.dtypes"
      ],
      "execution_count": 8,
      "outputs": [
        {
          "output_type": "execute_result",
          "data": {
            "text/plain": [
              "Species    float64\n",
              "Weight     float64\n",
              "Length1    float64\n",
              "Length2    float64\n",
              "Length3    float64\n",
              "Height     float64\n",
              "Width      float64\n",
              "dtype: object"
            ]
          },
          "metadata": {},
          "execution_count": 8
        }
      ]
    },
    {
      "cell_type": "code",
      "metadata": {
        "colab": {
          "base_uri": "https://localhost:8080/"
        },
        "id": "bHXuPPeszPpA",
        "outputId": "96e6dbfe-427d-4953-b027-99b78e80c40c"
      },
      "source": [
        "X = df.drop(\"Species\",1)   #Feature Matrix\n",
        "y = df[\"Species\"]          #Target Variable\n",
        "df.head()\n",
        "print(X)\n",
        "column_name = list(X.columns)"
      ],
      "execution_count": 9,
      "outputs": [
        {
          "output_type": "stream",
          "name": "stdout",
          "text": [
            "     Weight  Length1  Length2  Length3   Height   Width\n",
            "0     242.0     23.2     25.4     30.0  11.5200  4.0200\n",
            "1     290.0     24.0     26.3     31.2  12.4800  4.3056\n",
            "2     340.0     23.9     26.5     31.1  12.3778  4.6961\n",
            "3     363.0     26.3     29.0     33.5  12.7300  4.4555\n",
            "4     430.0     26.5     29.0     34.0  12.4440  5.1340\n",
            "..      ...      ...      ...      ...      ...     ...\n",
            "154    12.2     11.5     12.2     13.4   2.0904  1.3936\n",
            "155    13.4     11.7     12.4     13.5   2.4300  1.2690\n",
            "156    12.2     12.1     13.0     13.8   2.2770  1.2558\n",
            "157    19.7     13.2     14.3     15.2   2.8728  2.0672\n",
            "158    19.9     13.8     15.0     16.2   2.9322  1.8792\n",
            "\n",
            "[159 rows x 6 columns]\n"
          ]
        }
      ]
    },
    {
      "cell_type": "code",
      "metadata": {
        "colab": {
          "base_uri": "https://localhost:8080/",
          "height": 300
        },
        "id": "uZTZ78apzThY",
        "outputId": "17357049-43f6-401c-e18d-cd2c685dddcb"
      },
      "source": [
        "df.describe()"
      ],
      "execution_count": null,
      "outputs": [
        {
          "output_type": "execute_result",
          "data": {
            "text/html": [
              "<div>\n",
              "<style scoped>\n",
              "    .dataframe tbody tr th:only-of-type {\n",
              "        vertical-align: middle;\n",
              "    }\n",
              "\n",
              "    .dataframe tbody tr th {\n",
              "        vertical-align: top;\n",
              "    }\n",
              "\n",
              "    .dataframe thead th {\n",
              "        text-align: right;\n",
              "    }\n",
              "</style>\n",
              "<table border=\"1\" class=\"dataframe\">\n",
              "  <thead>\n",
              "    <tr style=\"text-align: right;\">\n",
              "      <th></th>\n",
              "      <th>Species</th>\n",
              "      <th>Weight</th>\n",
              "      <th>Length1</th>\n",
              "      <th>Length2</th>\n",
              "      <th>Length3</th>\n",
              "      <th>Height</th>\n",
              "      <th>Width</th>\n",
              "    </tr>\n",
              "  </thead>\n",
              "  <tbody>\n",
              "    <tr>\n",
              "      <th>count</th>\n",
              "      <td>159.000000</td>\n",
              "      <td>159.000000</td>\n",
              "      <td>159.000000</td>\n",
              "      <td>159.000000</td>\n",
              "      <td>159.000000</td>\n",
              "      <td>159.000000</td>\n",
              "      <td>159.000000</td>\n",
              "    </tr>\n",
              "    <tr>\n",
              "      <th>mean</th>\n",
              "      <td>2.716981</td>\n",
              "      <td>398.326415</td>\n",
              "      <td>26.247170</td>\n",
              "      <td>28.415723</td>\n",
              "      <td>31.227044</td>\n",
              "      <td>8.970994</td>\n",
              "      <td>4.417486</td>\n",
              "    </tr>\n",
              "    <tr>\n",
              "      <th>std</th>\n",
              "      <td>1.804117</td>\n",
              "      <td>357.978317</td>\n",
              "      <td>9.996441</td>\n",
              "      <td>10.716328</td>\n",
              "      <td>11.610246</td>\n",
              "      <td>4.286208</td>\n",
              "      <td>1.685804</td>\n",
              "    </tr>\n",
              "    <tr>\n",
              "      <th>min</th>\n",
              "      <td>1.000000</td>\n",
              "      <td>0.000000</td>\n",
              "      <td>7.500000</td>\n",
              "      <td>8.400000</td>\n",
              "      <td>8.800000</td>\n",
              "      <td>1.728400</td>\n",
              "      <td>1.047600</td>\n",
              "    </tr>\n",
              "    <tr>\n",
              "      <th>25%</th>\n",
              "      <td>1.000000</td>\n",
              "      <td>120.000000</td>\n",
              "      <td>19.050000</td>\n",
              "      <td>21.000000</td>\n",
              "      <td>23.150000</td>\n",
              "      <td>5.944800</td>\n",
              "      <td>3.385650</td>\n",
              "    </tr>\n",
              "    <tr>\n",
              "      <th>50%</th>\n",
              "      <td>2.000000</td>\n",
              "      <td>273.000000</td>\n",
              "      <td>25.200000</td>\n",
              "      <td>27.300000</td>\n",
              "      <td>29.400000</td>\n",
              "      <td>7.786000</td>\n",
              "      <td>4.248500</td>\n",
              "    </tr>\n",
              "    <tr>\n",
              "      <th>75%</th>\n",
              "      <td>4.000000</td>\n",
              "      <td>650.000000</td>\n",
              "      <td>32.700000</td>\n",
              "      <td>35.500000</td>\n",
              "      <td>39.650000</td>\n",
              "      <td>12.365900</td>\n",
              "      <td>5.584500</td>\n",
              "    </tr>\n",
              "    <tr>\n",
              "      <th>max</th>\n",
              "      <td>7.000000</td>\n",
              "      <td>1650.000000</td>\n",
              "      <td>59.000000</td>\n",
              "      <td>63.400000</td>\n",
              "      <td>68.000000</td>\n",
              "      <td>18.957000</td>\n",
              "      <td>8.142000</td>\n",
              "    </tr>\n",
              "  </tbody>\n",
              "</table>\n",
              "</div>"
            ],
            "text/plain": [
              "          Species       Weight     Length1  ...     Length3      Height       Width\n",
              "count  159.000000   159.000000  159.000000  ...  159.000000  159.000000  159.000000\n",
              "mean     2.716981   398.326415   26.247170  ...   31.227044    8.970994    4.417486\n",
              "std      1.804117   357.978317    9.996441  ...   11.610246    4.286208    1.685804\n",
              "min      1.000000     0.000000    7.500000  ...    8.800000    1.728400    1.047600\n",
              "25%      1.000000   120.000000   19.050000  ...   23.150000    5.944800    3.385650\n",
              "50%      2.000000   273.000000   25.200000  ...   29.400000    7.786000    4.248500\n",
              "75%      4.000000   650.000000   32.700000  ...   39.650000   12.365900    5.584500\n",
              "max      7.000000  1650.000000   59.000000  ...   68.000000   18.957000    8.142000\n",
              "\n",
              "[8 rows x 7 columns]"
            ]
          },
          "metadata": {},
          "execution_count": 9
        }
      ]
    },
    {
      "cell_type": "code",
      "metadata": {
        "id": "QD4dF-jnzXH_"
      },
      "source": [
        "from sklearn.preprocessing import MinMaxScaler\n",
        "scaler = MinMaxScaler() \n",
        "data_scaled = scaler.fit_transform(X)"
      ],
      "execution_count": null,
      "outputs": []
    },
    {
      "cell_type": "code",
      "metadata": {
        "colab": {
          "base_uri": "https://localhost:8080/"
        },
        "id": "gKr-nkJTzaGQ",
        "outputId": "0436bc77-01c5-418e-8165-9e4096f8e4cf"
      },
      "source": [
        "print('Min : ', data_scaled.min(axis=0))\n",
        "print('Max : ', data_scaled.max(axis=0))"
      ],
      "execution_count": null,
      "outputs": [
        {
          "output_type": "stream",
          "name": "stdout",
          "text": [
            "Min :  [0. 0. 0. 0. 0. 0.]\n",
            "Max :  [1. 1. 1. 1. 1. 1.]\n"
          ]
        }
      ]
    },
    {
      "cell_type": "code",
      "metadata": {
        "colab": {
          "base_uri": "https://localhost:8080/",
          "height": 206
        },
        "id": "mDAszkKgzdE4",
        "outputId": "884f834d-3d4c-4f7e-c4d3-da1cec5d1a30"
      },
      "source": [
        "df = pd.DataFrame(data=data_scaled, columns= column_name)\n",
        "df.head()"
      ],
      "execution_count": null,
      "outputs": [
        {
          "output_type": "execute_result",
          "data": {
            "text/html": [
              "<div>\n",
              "<style scoped>\n",
              "    .dataframe tbody tr th:only-of-type {\n",
              "        vertical-align: middle;\n",
              "    }\n",
              "\n",
              "    .dataframe tbody tr th {\n",
              "        vertical-align: top;\n",
              "    }\n",
              "\n",
              "    .dataframe thead th {\n",
              "        text-align: right;\n",
              "    }\n",
              "</style>\n",
              "<table border=\"1\" class=\"dataframe\">\n",
              "  <thead>\n",
              "    <tr style=\"text-align: right;\">\n",
              "      <th></th>\n",
              "      <th>Weight</th>\n",
              "      <th>Length1</th>\n",
              "      <th>Length2</th>\n",
              "      <th>Length3</th>\n",
              "      <th>Height</th>\n",
              "      <th>Width</th>\n",
              "    </tr>\n",
              "  </thead>\n",
              "  <tbody>\n",
              "    <tr>\n",
              "      <th>0</th>\n",
              "      <td>0.146667</td>\n",
              "      <td>0.304854</td>\n",
              "      <td>0.309091</td>\n",
              "      <td>0.358108</td>\n",
              "      <td>0.568334</td>\n",
              "      <td>0.418978</td>\n",
              "    </tr>\n",
              "    <tr>\n",
              "      <th>1</th>\n",
              "      <td>0.175758</td>\n",
              "      <td>0.320388</td>\n",
              "      <td>0.325455</td>\n",
              "      <td>0.378378</td>\n",
              "      <td>0.624055</td>\n",
              "      <td>0.459235</td>\n",
              "    </tr>\n",
              "    <tr>\n",
              "      <th>2</th>\n",
              "      <td>0.206061</td>\n",
              "      <td>0.318447</td>\n",
              "      <td>0.329091</td>\n",
              "      <td>0.376689</td>\n",
              "      <td>0.618123</td>\n",
              "      <td>0.514279</td>\n",
              "    </tr>\n",
              "    <tr>\n",
              "      <th>3</th>\n",
              "      <td>0.220000</td>\n",
              "      <td>0.365049</td>\n",
              "      <td>0.374545</td>\n",
              "      <td>0.417230</td>\n",
              "      <td>0.638566</td>\n",
              "      <td>0.480365</td>\n",
              "    </tr>\n",
              "    <tr>\n",
              "      <th>4</th>\n",
              "      <td>0.260606</td>\n",
              "      <td>0.368932</td>\n",
              "      <td>0.374545</td>\n",
              "      <td>0.425676</td>\n",
              "      <td>0.621966</td>\n",
              "      <td>0.576004</td>\n",
              "    </tr>\n",
              "  </tbody>\n",
              "</table>\n",
              "</div>"
            ],
            "text/plain": [
              "     Weight   Length1   Length2   Length3    Height     Width\n",
              "0  0.146667  0.304854  0.309091  0.358108  0.568334  0.418978\n",
              "1  0.175758  0.320388  0.325455  0.378378  0.624055  0.459235\n",
              "2  0.206061  0.318447  0.329091  0.376689  0.618123  0.514279\n",
              "3  0.220000  0.365049  0.374545  0.417230  0.638566  0.480365\n",
              "4  0.260606  0.368932  0.374545  0.425676  0.621966  0.576004"
            ]
          },
          "metadata": {},
          "execution_count": 12
        }
      ]
    },
    {
      "cell_type": "code",
      "metadata": {
        "colab": {
          "base_uri": "https://localhost:8080/",
          "height": 269
        },
        "id": "8DlqKiovzgng",
        "outputId": "ff7fc1fe-0891-4465-fc46-7ed68286c125"
      },
      "source": [
        "import seaborn as sns\n",
        "sns.boxplot(y=df['Length1'])"
      ],
      "execution_count": null,
      "outputs": [
        {
          "output_type": "execute_result",
          "data": {
            "text/plain": [
              "<matplotlib.axes._subplots.AxesSubplot at 0x7f294101f210>"
            ]
          },
          "metadata": {},
          "execution_count": 13
        },
        {
          "output_type": "display_data",
          "data": {
            "image/png": "[encoded data removed]",
            "text/plain": [
              "<Figure size 432x288 with 1 Axes>"
            ]
          },
          "metadata": {
            "needs_background": "light"
          }
        }
      ]
    },
    {
      "cell_type": "code",
      "metadata": {
        "colab": {
          "base_uri": "https://localhost:8080/",
          "height": 206
        },
        "id": "m61ydbjSzoS4",
        "outputId": "7832c20e-1afc-4750-8436-5aef2324e0d5"
      },
      "source": [
        "df = pd.concat([df, y], axis = 1)\n",
        "df.head()"
      ],
      "execution_count": null,
      "outputs": [
        {
          "output_type": "execute_result",
          "data": {
            "text/html": [
              "<div>\n",
              "<style scoped>\n",
              "    .dataframe tbody tr th:only-of-type {\n",
              "        vertical-align: middle;\n",
              "    }\n",
              "\n",
              "    .dataframe tbody tr th {\n",
              "        vertical-align: top;\n",
              "    }\n",
              "\n",
              "    .dataframe thead th {\n",
              "        text-align: right;\n",
              "    }\n",
              "</style>\n",
              "<table border=\"1\" class=\"dataframe\">\n",
              "  <thead>\n",
              "    <tr style=\"text-align: right;\">\n",
              "      <th></th>\n",
              "      <th>Weight</th>\n",
              "      <th>Length1</th>\n",
              "      <th>Length2</th>\n",
              "      <th>Length3</th>\n",
              "      <th>Height</th>\n",
              "      <th>Width</th>\n",
              "      <th>Species</th>\n",
              "    </tr>\n",
              "  </thead>\n",
              "  <tbody>\n",
              "    <tr>\n",
              "      <th>0</th>\n",
              "      <td>0.146667</td>\n",
              "      <td>0.304854</td>\n",
              "      <td>0.309091</td>\n",
              "      <td>0.358108</td>\n",
              "      <td>0.568334</td>\n",
              "      <td>0.418978</td>\n",
              "      <td>2.0</td>\n",
              "    </tr>\n",
              "    <tr>\n",
              "      <th>1</th>\n",
              "      <td>0.175758</td>\n",
              "      <td>0.320388</td>\n",
              "      <td>0.325455</td>\n",
              "      <td>0.378378</td>\n",
              "      <td>0.624055</td>\n",
              "      <td>0.459235</td>\n",
              "      <td>2.0</td>\n",
              "    </tr>\n",
              "    <tr>\n",
              "      <th>2</th>\n",
              "      <td>0.206061</td>\n",
              "      <td>0.318447</td>\n",
              "      <td>0.329091</td>\n",
              "      <td>0.376689</td>\n",
              "      <td>0.618123</td>\n",
              "      <td>0.514279</td>\n",
              "      <td>2.0</td>\n",
              "    </tr>\n",
              "    <tr>\n",
              "      <th>3</th>\n",
              "      <td>0.220000</td>\n",
              "      <td>0.365049</td>\n",
              "      <td>0.374545</td>\n",
              "      <td>0.417230</td>\n",
              "      <td>0.638566</td>\n",
              "      <td>0.480365</td>\n",
              "      <td>2.0</td>\n",
              "    </tr>\n",
              "    <tr>\n",
              "      <th>4</th>\n",
              "      <td>0.260606</td>\n",
              "      <td>0.368932</td>\n",
              "      <td>0.374545</td>\n",
              "      <td>0.425676</td>\n",
              "      <td>0.621966</td>\n",
              "      <td>0.576004</td>\n",
              "      <td>2.0</td>\n",
              "    </tr>\n",
              "  </tbody>\n",
              "</table>\n",
              "</div>"
            ],
            "text/plain": [
              "     Weight   Length1   Length2   Length3    Height     Width  Species\n",
              "0  0.146667  0.304854  0.309091  0.358108  0.568334  0.418978      2.0\n",
              "1  0.175758  0.320388  0.325455  0.378378  0.624055  0.459235      2.0\n",
              "2  0.206061  0.318447  0.329091  0.376689  0.618123  0.514279      2.0\n",
              "3  0.220000  0.365049  0.374545  0.417230  0.638566  0.480365      2.0\n",
              "4  0.260606  0.368932  0.374545  0.425676  0.621966  0.576004      2.0"
            ]
          },
          "metadata": {},
          "execution_count": 14
        }
      ]
    },
    {
      "cell_type": "code",
      "metadata": {
        "colab": {
          "base_uri": "https://localhost:8080/",
          "height": 453
        },
        "id": "8XcVF1syzsvg",
        "outputId": "03d499b9-3a50-4b3d-a86c-10ce2d7e2480"
      },
      "source": [
        "fig, ax = plt.subplots(figsize=(16,8))\n",
        "ax.scatter(df['Species'], df['Length1'])\n",
        "ax.set_xlabel('Species')\n",
        "ax.set_ylabel('Length1')\n",
        "plt.show()"
      ],
      "execution_count": null,
      "outputs": [
        {
          "output_type": "display_data",
          "data": {
            "image/png": "[encoded data removed]",
            "text/plain": [
              "<Figure size 1152x576 with 1 Axes>"
            ]
          },
          "metadata": {
            "needs_background": "light"
          }
        }
      ]
    },
    {
      "cell_type": "code",
      "metadata": {
        "colab": {
          "base_uri": "https://localhost:8080/",
          "height": 1000
        },
        "id": "VrwmqX3Pzyxf",
        "outputId": "51a0372e-03fe-4061-d2c0-c806759b6195"
      },
      "source": [
        "import matplotlib.pyplot as plt  \n",
        "% matplotlib inline \n",
        "\n",
        "x = df.drop(\"Species\",1)\n",
        "columns_name = list(x.columns)\n",
        "\n",
        "for i in column_name:\n",
        "  df.boxplot(by ='Species', column =[i], grid = False)"
      ],
      "execution_count": 12,
      "outputs": [
        {
          "output_type": "stream",
          "name": "stderr",
          "text": [
            "/usr/local/lib/python3.7/dist-packages/numpy/core/_asarray.py:83: VisibleDeprecationWarning: Creating an ndarray from ragged nested sequences (which is a list-or-tuple of lists-or-tuples-or ndarrays with different lengths or shapes) is deprecated. If you meant to do this, you must specify 'dtype=object' when creating the ndarray\n",
            "  return array(a, dtype, copy=False, order=order)\n",
            "/usr/local/lib/python3.7/dist-packages/numpy/core/_asarray.py:83: VisibleDeprecationWarning: Creating an ndarray from ragged nested sequences (which is a list-or-tuple of lists-or-tuples-or ndarrays with different lengths or shapes) is deprecated. If you meant to do this, you must specify 'dtype=object' when creating the ndarray\n",
            "  return array(a, dtype, copy=False, order=order)\n",
            "/usr/local/lib/python3.7/dist-packages/numpy/core/_asarray.py:83: VisibleDeprecationWarning: Creating an ndarray from ragged nested sequences (which is a list-or-tuple of lists-or-tuples-or ndarrays with different lengths or shapes) is deprecated. If you meant to do this, you must specify 'dtype=object' when creating the ndarray\n",
            "  return array(a, dtype, copy=False, order=order)\n",
            "/usr/local/lib/python3.7/dist-packages/numpy/core/_asarray.py:83: VisibleDeprecationWarning: Creating an ndarray from ragged nested sequences (which is a list-or-tuple of lists-or-tuples-or ndarrays with different lengths or shapes) is deprecated. If you meant to do this, you must specify 'dtype=object' when creating the ndarray\n",
            "  return array(a, dtype, copy=False, order=order)\n",
            "/usr/local/lib/python3.7/dist-packages/numpy/core/_asarray.py:83: VisibleDeprecationWarning: Creating an ndarray from ragged nested sequences (which is a list-or-tuple of lists-or-tuples-or ndarrays with different lengths or shapes) is deprecated. If you meant to do this, you must specify 'dtype=object' when creating the ndarray\n",
            "  return array(a, dtype, copy=False, order=order)\n",
            "/usr/local/lib/python3.7/dist-packages/numpy/core/_asarray.py:83: VisibleDeprecationWarning: Creating an ndarray from ragged nested sequences (which is a list-or-tuple of lists-or-tuples-or ndarrays with different lengths or shapes) is deprecated. If you meant to do this, you must specify 'dtype=object' when creating the ndarray\n",
            "  return array(a, dtype, copy=False, order=order)\n"
          ]
        },
        {
          "output_type": "display_data",
          "data": {
            "image/png": "[encoded data removed]",
            "text/plain": [
              "<Figure size 432x288 with 1 Axes>"
            ]
          },
          "metadata": {
            "needs_background": "light"
          }
        },
        {
          "output_type": "display_data",
          "data": {
            "image/png": "[encoded data removed]",
            "text/plain": [
              "<Figure size 432x288 with 1 Axes>"
            ]
          },
          "metadata": {
            "needs_background": "light"
          }
        },
        {
          "output_type": "display_data",
          "data": {
            "image/png": "[encoded data removed]",
            "text/plain": [
              "<Figure size 432x288 with 1 Axes>"
            ]
          },
          "metadata": {
            "needs_background": "light"
          }
        },
        {
          "output_type": "display_data",
          "data": {
            "image/png": "[encoded data removed]",
            "text/plain": [
              "<Figure size 432x288 with 1 Axes>"
            ]
          },
          "metadata": {
            "needs_background": "light"
          }
        },
        {
          "output_type": "display_data",
          "data": {
            "image/png": "[encoded data removed]",
            "text/plain": [
              "<Figure size 432x288 with 1 Axes>"
            ]
          },
          "metadata": {
            "needs_background": "light"
          }
        },
        {
          "output_type": "display_data",
          "data": {
            "image/png": "[encoded data removed]",
            "text/plain": [
              "<Figure size 432x288 with 1 Axes>"
            ]
          },
          "metadata": {
            "needs_background": "light"
          }
        }
      ]
    },
    {
      "cell_type": "code",
      "metadata": {
        "colab": {
          "base_uri": "https://localhost:8080/"
        },
        "id": "RypcxM9Tz2uR",
        "outputId": "049eaaa1-989e-4edb-c9f2-7581697374c7"
      },
      "source": [
        "Q1 = df.quantile(0.25)\n",
        "Q3 = df.quantile(0.75)\n",
        "IQR = Q3 - Q1\n",
        "print(IQR)"
      ],
      "execution_count": null,
      "outputs": [
        {
          "output_type": "stream",
          "name": "stdout",
          "text": [
            "Weight     0.321212\n",
            "Length1    0.265049\n",
            "Length2    0.263636\n",
            "Length3    0.278716\n",
            "Height     0.372700\n",
            "Width      0.309942\n",
            "Species    3.000000\n",
            "dtype: float64\n"
          ]
        }
      ]
    },
    {
      "cell_type": "code",
      "metadata": {
        "colab": {
          "base_uri": "https://localhost:8080/"
        },
        "id": "32awml52z6Uf",
        "outputId": "f059a207-38fe-4adb-e234-3e1f77bae0f6"
      },
      "source": [
        "print(df.shape)"
      ],
      "execution_count": null,
      "outputs": [
        {
          "output_type": "stream",
          "name": "stdout",
          "text": [
            "(159, 7)\n"
          ]
        }
      ]
    },
    {
      "cell_type": "code",
      "metadata": {
        "colab": {
          "base_uri": "https://localhost:8080/"
        },
        "id": "1vugrZ1nz8zh",
        "outputId": "8ac7112a-e90f-409b-81b3-4aa54aadafaf"
      },
      "source": [
        "df_out = df[~((df < (Q1 - 1.5 * IQR)) |(df > (Q3 + 1.5 * IQR))).any(axis=1)]\n",
        "print(df_out.shape)"
      ],
      "execution_count": null,
      "outputs": [
        {
          "output_type": "stream",
          "name": "stdout",
          "text": [
            "(156, 7)\n"
          ]
        }
      ]
    },
    {
      "cell_type": "code",
      "metadata": {
        "colab": {
          "base_uri": "https://localhost:8080/",
          "height": 453
        },
        "id": "kYmFaxPkz_Lf",
        "outputId": "5c9a2313-e012-4c21-9aab-e044171e03cb"
      },
      "source": [
        "fig, ax = plt.subplots(figsize=(16,8))\n",
        "ax.scatter(df_out['Species'], df_out['Length1'])\n",
        "ax.set_xlabel('Species')\n",
        "ax.set_ylabel('Length1')\n",
        "plt.show()"
      ],
      "execution_count": null,
      "outputs": [
        {
          "output_type": "display_data",
          "data": {
            "image/png": "[encoded data removed]",
            "text/plain": [
              "<Figure size 1152x576 with 1 Axes>"
            ]
          },
          "metadata": {
            "needs_background": "light"
          }
        }
      ]
    },
    {
      "cell_type": "code",
      "metadata": {
        "colab": {
          "base_uri": "https://localhost:8080/",
          "height": 1000
        },
        "id": "39reVzjM0HcT",
        "outputId": "e9979a96-1aeb-4ebb-be44-92dd065445d1"
      },
      "source": [
        "import matplotlib.pyplot as plt  \n",
        "% matplotlib inline \n",
        "\n",
        "X_fix = df_out.drop(\"Species\",1)\n",
        "y_fix = df_out[\"Species\"]\n",
        "columns_name = list(X_fix.columns)\n",
        "\n",
        "for i in column_name:\n",
        "  df_out.boxplot(by ='Species', column =[i], grid = False)"
      ],
      "execution_count": null,
      "outputs": [
        {
          "output_type": "stream",
          "name": "stderr",
          "text": [
            "/usr/local/lib/python3.7/dist-packages/numpy/core/_asarray.py:83: VisibleDeprecationWarning: Creating an ndarray from ragged nested sequences (which is a list-or-tuple of lists-or-tuples-or ndarrays with different lengths or shapes) is deprecated. If you meant to do this, you must specify 'dtype=object' when creating the ndarray\n",
            "  return array(a, dtype, copy=False, order=order)\n",
            "/usr/local/lib/python3.7/dist-packages/numpy/core/_asarray.py:83: VisibleDeprecationWarning: Creating an ndarray from ragged nested sequences (which is a list-or-tuple of lists-or-tuples-or ndarrays with different lengths or shapes) is deprecated. If you meant to do this, you must specify 'dtype=object' when creating the ndarray\n",
            "  return array(a, dtype, copy=False, order=order)\n",
            "/usr/local/lib/python3.7/dist-packages/numpy/core/_asarray.py:83: VisibleDeprecationWarning: Creating an ndarray from ragged nested sequences (which is a list-or-tuple of lists-or-tuples-or ndarrays with different lengths or shapes) is deprecated. If you meant to do this, you must specify 'dtype=object' when creating the ndarray\n",
            "  return array(a, dtype, copy=False, order=order)\n",
            "/usr/local/lib/python3.7/dist-packages/numpy/core/_asarray.py:83: VisibleDeprecationWarning: Creating an ndarray from ragged nested sequences (which is a list-or-tuple of lists-or-tuples-or ndarrays with different lengths or shapes) is deprecated. If you meant to do this, you must specify 'dtype=object' when creating the ndarray\n",
            "  return array(a, dtype, copy=False, order=order)\n",
            "/usr/local/lib/python3.7/dist-packages/numpy/core/_asarray.py:83: VisibleDeprecationWarning: Creating an ndarray from ragged nested sequences (which is a list-or-tuple of lists-or-tuples-or ndarrays with different lengths or shapes) is deprecated. If you meant to do this, you must specify 'dtype=object' when creating the ndarray\n",
            "  return array(a, dtype, copy=False, order=order)\n",
            "/usr/local/lib/python3.7/dist-packages/numpy/core/_asarray.py:83: VisibleDeprecationWarning: Creating an ndarray from ragged nested sequences (which is a list-or-tuple of lists-or-tuples-or ndarrays with different lengths or shapes) is deprecated. If you meant to do this, you must specify 'dtype=object' when creating the ndarray\n",
            "  return array(a, dtype, copy=False, order=order)\n"
          ]
        },
        {
          "output_type": "display_data",
          "data": {
            "image/png": "[encoded data removed]",
            "text/plain": [
              "<Figure size 432x288 with 1 Axes>"
            ]
          },
          "metadata": {
            "needs_background": "light"
          }
        },
        {
          "output_type": "display_data",
          "data": {
            "image/png": "[encoded data removed]",
            "text/plain": [
              "<Figure size 432x288 with 1 Axes>"
            ]
          },
          "metadata": {
            "needs_background": "light"
          }
        },
        {
          "output_type": "display_data",
          "data": {
            "image/png": "[encoded data removed]",
            "text/plain": [
              "<Figure size 432x288 with 1 Axes>"
            ]
          },
          "metadata": {
            "needs_background": "light"
          }
        },
        {
          "output_type": "display_data",
          "data": {
            "image/png": "[encoded data removed]",
            "text/plain": [
              "<Figure size 432x288 with 1 Axes>"
            ]
          },
          "metadata": {
            "needs_background": "light"
          }
        },
        {
          "output_type": "display_data",
          "data": {
            "image/png": "[encoded data removed]",
            "text/plain": [
              "<Figure size 432x288 with 1 Axes>"
            ]
          },
          "metadata": {
            "needs_background": "light"
          }
        },
        {
          "output_type": "display_data",
          "data": {
            "image/png": "[encoded data removed]",
            "text/plain": [
              "<Figure size 432x288 with 1 Axes>"
            ]
          },
          "metadata": {
            "needs_background": "light"
          }
        }
      ]
    },
    {
      "cell_type": "markdown",
      "metadata": {
        "id": "297qgDgq0a83"
      },
      "source": [
        "### **Feature Importance**"
      ]
    },
    {
      "cell_type": "markdown",
      "metadata": {
        "id": "_Wz0m-Rat1Pp"
      },
      "source": [
        "Memilih feature yang berpengaruh dari sekumpulan data yang asli, fitur itu diberikan fungsi statik sehingga dapat dilakukan pengurutan dalam sebuah nilai.\n",
        "\n",
        "Uji Chi Square cocok digunakan untuk menganalisis data kasus sepeerti diatas.\n",
        "Chi Square disebut juga dengan Kai Kuadrat. Chi Square adalah salah satu jenis uji komparatif non parametris yang dilakukan pada dua variabel, di mana skala data kedua variabel adalah nominal. (Apabila dari 2 variabel, ada 1 variabel dengan skala nominal maka dilakukan uji chi square dengan merujuk bahwa harus digunakan uji pada derajat yang terendah). Berikut akan kita bahas tentang rumus chi square.\n",
        "\n"
      ]
    },
    {
      "cell_type": "markdown",
      "metadata": {
        "id": "PyrYgwmd0trr"
      },
      "source": [
        "1. Univariate Selection"
      ]
    },
    {
      "cell_type": "code",
      "metadata": {
        "colab": {
          "base_uri": "https://localhost:8080/"
        },
        "id": "KxhrsHzY0qSw",
        "outputId": "aa894905-0544-4e6b-c192-abdaa8294013"
      },
      "source": [
        "import pandas as pd\n",
        "import numpy as np\n",
        "from sklearn.feature_selection import SelectKBest\n",
        "from sklearn.feature_selection import chi2\n",
        "\n",
        "X = df_out.iloc[:,0:77]  #independent columns\n",
        "y = df_out.iloc[:,-1]    #target column i.e price range#apply SelectKBest class to extract top 10 best features\n",
        "\n",
        "bestfeatures = SelectKBest(score_func=chi2, k=2) \n",
        "\n",
        "fit = bestfeatures.fit(X,y)\n",
        "dfscores = pd.DataFrame(fit.scores_)\n",
        "p_values = pd.DataFrame(fit.pvalues_)\n",
        "dfcolumns = pd.DataFrame(X_fix.columns)\n",
        "\n",
        "#concat two dataframes for better visualization \n",
        "featureScores = pd.concat([dfcolumns,dfscores, p_values],axis=1)\n",
        "featureScores.columns = ['Spesific Fish','chi-square Score', 'p-values']  #naming the dataframe columns\n",
        "print(featureScores.nlargest(77,'chi-square Score'))  #print 10 best features"
      ],
      "execution_count": null,
      "outputs": [
        {
          "output_type": "stream",
          "name": "stdout",
          "text": [
            "  Spesific Fish  chi-square Score      p-values\n",
            "6           NaN        189.142857  3.871009e-38\n",
            "4        Height         17.781620  6.801753e-03\n",
            "0        Weight          9.576693  1.436478e-01\n",
            "5         Width          8.882441  1.802982e-01\n",
            "3       Length3          8.408297  2.096899e-01\n",
            "2       Length2          8.147070  2.275254e-01\n",
            "1       Length1          7.892925  2.460533e-01\n"
          ]
        }
      ]
    },
    {
      "cell_type": "markdown",
      "metadata": {
        "id": "PdQS9d7y01RI"
      },
      "source": [
        "2. SVM-RFE"
      ]
    },
    {
      "cell_type": "code",
      "metadata": {
        "id": "rKmp-79i02Ui"
      },
      "source": [
        "ranks = {}\n",
        "# Create our function which stores the feature rankings to the ranks dictionary\n",
        "def ranking(ranks, names, order=1):\n",
        "    minmax = MinMaxScaler()\n",
        "    ranks = minmax.fit_transform(order*np.array([ranks]).T).T[0]\n",
        "    ranks = map(lambda x: round(x,2), ranks)\n",
        "    return dict(zip(names, ranks))"
      ],
      "execution_count": null,
      "outputs": []
    },
    {
      "cell_type": "code",
      "metadata": {
        "colab": {
          "base_uri": "https://localhost:8080/"
        },
        "id": "S5E8eg9e07ro",
        "outputId": "f290cf6b-9088-443e-9c83-c27296d159cd"
      },
      "source": [
        "from sklearn.svm import SVC\n",
        "from sklearn.metrics import classification_report, confusion_matrix\n",
        "from sklearn.metrics import fbeta_score\n",
        "from sklearn.metrics import cohen_kappa_score\n",
        "from sklearn.metrics import roc_curve, auc\n",
        "from sklearn.model_selection import train_test_split\n",
        "from sklearn.preprocessing import label_binarize\n",
        "from sklearn.multiclass import OneVsRestClassifier\n",
        "from scipy import interp\n",
        "from sklearn.metrics import roc_auc_score\n",
        "from sklearn.feature_selection import RFE\n",
        "from operator import itemgetter\n",
        "\n",
        "X = df_out.iloc[:,0:77]\n",
        "y = df_out.iloc[:,-1]\n",
        "\n",
        "X_train, X_test, y_train, y_test = train_test_split(X, y, test_size = 0.3, stratify = y)\n",
        "\n",
        "colnames = X.columns\n",
        "n_features_to_select = 1 # dia akan berhenti untuk melakukan training jika fiturnya tinggal 1\n",
        "svclassifier = SVC(kernel='linear')\n",
        "rfe = RFE(svclassifier, n_features_to_select, verbose = 1)\n",
        "rfe.fit(X, y)\n",
        "\n",
        "y_pred = rfe.predict(X)\n",
        "\n",
        "ranks[f\"RFE score\"] = ranking(list(map(float, rfe.ranking_)), colnames, order=-1)"
      ],
      "execution_count": null,
      "outputs": [
        {
          "output_type": "stream",
          "name": "stdout",
          "text": [
            "Fitting estimator with 7 features.\n",
            "Fitting estimator with 6 features.\n",
            "Fitting estimator with 5 features.\n",
            "Fitting estimator with 4 features.\n",
            "Fitting estimator with 3 features.\n",
            "Fitting estimator with 2 features.\n"
          ]
        }
      ]
    },
    {
      "cell_type": "code",
      "metadata": {
        "id": "Ua5p8Owi1AC_"
      },
      "source": [
        "# Put the mean scores into a Pandas dataframe\n",
        "df_rank = pd.DataFrame(list(ranks[f\"RFE score\"].items()), columns= ['Feature','Scores'])\n",
        "\n",
        "# Sort the dataframe\n",
        "df_rank = df_rank.sort_values('Scores', ascending=False)"
      ],
      "execution_count": null,
      "outputs": []
    },
    {
      "cell_type": "code",
      "metadata": {
        "colab": {
          "base_uri": "https://localhost:8080/",
          "height": 269
        },
        "id": "3KGZHrBV1CFQ",
        "outputId": "d757ffd6-7104-48c0-a81b-28b811667209"
      },
      "source": [
        "df_rank"
      ],
      "execution_count": null,
      "outputs": [
        {
          "output_type": "execute_result",
          "data": {
            "text/html": [
              "<div>\n",
              "<style scoped>\n",
              "    .dataframe tbody tr th:only-of-type {\n",
              "        vertical-align: middle;\n",
              "    }\n",
              "\n",
              "    .dataframe tbody tr th {\n",
              "        vertical-align: top;\n",
              "    }\n",
              "\n",
              "    .dataframe thead th {\n",
              "        text-align: right;\n",
              "    }\n",
              "</style>\n",
              "<table border=\"1\" class=\"dataframe\">\n",
              "  <thead>\n",
              "    <tr style=\"text-align: right;\">\n",
              "      <th></th>\n",
              "      <th>Feature</th>\n",
              "      <th>Scores</th>\n",
              "    </tr>\n",
              "  </thead>\n",
              "  <tbody>\n",
              "    <tr>\n",
              "      <th>6</th>\n",
              "      <td>Species</td>\n",
              "      <td>1.00</td>\n",
              "    </tr>\n",
              "    <tr>\n",
              "      <th>1</th>\n",
              "      <td>Length1</td>\n",
              "      <td>0.83</td>\n",
              "    </tr>\n",
              "    <tr>\n",
              "      <th>4</th>\n",
              "      <td>Height</td>\n",
              "      <td>0.67</td>\n",
              "    </tr>\n",
              "    <tr>\n",
              "      <th>2</th>\n",
              "      <td>Length2</td>\n",
              "      <td>0.50</td>\n",
              "    </tr>\n",
              "    <tr>\n",
              "      <th>3</th>\n",
              "      <td>Length3</td>\n",
              "      <td>0.33</td>\n",
              "    </tr>\n",
              "    <tr>\n",
              "      <th>5</th>\n",
              "      <td>Width</td>\n",
              "      <td>0.17</td>\n",
              "    </tr>\n",
              "    <tr>\n",
              "      <th>0</th>\n",
              "      <td>Weight</td>\n",
              "      <td>0.00</td>\n",
              "    </tr>\n",
              "  </tbody>\n",
              "</table>\n",
              "</div>"
            ],
            "text/plain": [
              "   Feature  Scores\n",
              "6  Species    1.00\n",
              "1  Length1    0.83\n",
              "4   Height    0.67\n",
              "2  Length2    0.50\n",
              "3  Length3    0.33\n",
              "5    Width    0.17\n",
              "0   Weight    0.00"
            ]
          },
          "metadata": {},
          "execution_count": 26
        }
      ]
    },
    {
      "cell_type": "code",
      "metadata": {
        "colab": {
          "base_uri": "https://localhost:8080/",
          "height": 836
        },
        "id": "P1hkiwDb1EbR",
        "outputId": "43207190-ca67-4977-b175-8c3a3f4ac3d0"
      },
      "source": [
        "import seaborn as sns\n",
        "# Let's plot the ranking of the features\n",
        "sns.factorplot(x=\"Scores\", y=\"Feature\", data = df_rank, kind=\"bar\", \n",
        "               size=10, aspect=1, palette='coolwarm')"
      ],
      "execution_count": null,
      "outputs": [
        {
          "output_type": "stream",
          "name": "stderr",
          "text": [
            "/usr/local/lib/python3.7/dist-packages/seaborn/categorical.py:3717: UserWarning: The `factorplot` function has been renamed to `catplot`. The original name will be removed in a future release. Please update your code. Note that the default `kind` in `factorplot` (`'point'`) has changed `'strip'` in `catplot`.\n",
            "  warnings.warn(msg)\n",
            "/usr/local/lib/python3.7/dist-packages/seaborn/categorical.py:3723: UserWarning: The `size` parameter has been renamed to `height`; please update your code.\n",
            "  warnings.warn(msg, UserWarning)\n"
          ]
        },
        {
          "output_type": "execute_result",
          "data": {
            "text/plain": [
              "<seaborn.axisgrid.FacetGrid at 0x7f293fd80590>"
            ]
          },
          "metadata": {},
          "execution_count": 27
        },
        {
          "output_type": "display_data",
          "data": {
            "image/png": "[encoded data removed]",
            "text/plain": [
              "<Figure size 720x720 with 1 Axes>"
            ]
          },
          "metadata": {
            "needs_background": "light"
          }
        }
      ]
    },
    {
      "cell_type": "markdown",
      "metadata": {
        "id": "_h1z1-L81JAm"
      },
      "source": [
        "3. Extratrees"
      ]
    },
    {
      "cell_type": "code",
      "metadata": {
        "colab": {
          "base_uri": "https://localhost:8080/",
          "height": 300
        },
        "id": "8DY13g8i1IwQ",
        "outputId": "38ac8c39-256a-41e2-83e9-5f8b94d51ed7"
      },
      "source": [
        "import pandas as pd\n",
        "import numpy as np\n",
        "from sklearn.ensemble import ExtraTreesClassifier\n",
        "import matplotlib.pyplot as plt\n",
        "\n",
        "model = ExtraTreesClassifier()\n",
        "model.fit(X,y)\n",
        "\n",
        "print(model.feature_importances_) #use inbuilt class feature_importances of tree based classifiers\n",
        "#plot graph of feature importances for better visualization\n",
        "feat_importances = pd.Series(model.feature_importances_, index=X.columns)\n",
        "feat_importances.nlargest(2).plot(kind='barh')\n",
        "plt.show()"
      ],
      "execution_count": null,
      "outputs": [
        {
          "output_type": "stream",
          "name": "stdout",
          "text": [
            "[0.05928073 0.07630175 0.06660021 0.08627577 0.17585993 0.07288749\n",
            " 0.46279412]\n"
          ]
        },
        {
          "output_type": "display_data",
          "data": {
            "image/png": "[encoded data removed]",
            "text/plain": [
              "<Figure size 432x288 with 1 Axes>"
            ]
          },
          "metadata": {
            "needs_background": "light"
          }
        }
      ]
    },
    {
      "cell_type": "markdown",
      "metadata": {
        "id": "xVkwC6IZ1P6C"
      },
      "source": [
        "4. Correlation Matrix with Heatmap"
      ]
    },
    {
      "cell_type": "code",
      "metadata": {
        "colab": {
          "base_uri": "https://localhost:8080/",
          "height": 919
        },
        "id": "-XOwNA6f1Pao",
        "outputId": "733b6037-23e0-4bfb-9d8b-9a31f4aa966f"
      },
      "source": [
        "import pandas as pd\n",
        "import numpy as np\n",
        "import seaborn as sns\n",
        "\n",
        "X = df_out.iloc[:,0:77]  #independent columns\n",
        "y = df_out.iloc[:,-1]    #target column i.e price range\n",
        "#get correlations of each features in dataset\n",
        "\n",
        "corrmat = df_out.corr()\n",
        "top_corr_features = corrmat.index\n",
        "plt.figure(figsize=(20,20))\n",
        "#plot heat map\n",
        "g=sns.heatmap(df_out[top_corr_features].corr(),annot=True,cmap=\"Blues\")"
      ],
      "execution_count": null,
      "outputs": [
        {
          "output_type": "display_data",
          "data": {
            "image/png": "[encoded data removed]",
            "text/plain": [
              "<Figure size 1440x1440 with 2 Axes>"
            ]
          },
          "metadata": {
            "needs_background": "light"
          }
        }
      ]
    },
    {
      "cell_type": "markdown",
      "metadata": {
        "id": "5V1geNvy1izB"
      },
      "source": [
        "### **Feature Extraction**"
      ]
    },
    {
      "cell_type": "markdown",
      "metadata": {
        "id": "MTr28cp1uvOH"
      },
      "source": [
        "Membuat deature baru berdasarkan feature yabg lama dengan dimensi yang lebih sedikit, caranya yaitu meggunakan feature extraction dengan princpal componen analisis"
      ]
    },
    {
      "cell_type": "code",
      "metadata": {
        "id": "CoIcC5t53jbJ"
      },
      "source": [
        " import numpy as np\n",
        " import matplotlib.pyplot as plt\n",
        " from matplotlib import offsetbox\n",
        " from sklearn import manifold, datasets, decomposition, discriminant_analysis\n",
        "\n",
        " digits = datasets.load_digits()\n",
        "\n",
        " X = digits.data\n",
        " y = digits.target\n",
        "\n",
        " n_samples, n_features = X.shape"
      ],
      "execution_count": null,
      "outputs": []
    },
    {
      "cell_type": "markdown",
      "metadata": {
        "id": "RVBoXswl3xZl"
      },
      "source": [
        "1. LDA"
      ]
    },
    {
      "cell_type": "markdown",
      "metadata": {
        "id": "M6gtxuWKvCyW"
      },
      "source": [
        "Cara kerja LDA yaitu memisahkan data yang  distance datanya diperbesar dan menghitung means dan mencari variasi dari data, Kumpulan data ang variansinya kecil maka data itu akan semakin mirip, sedangkan jika distancenya semakin besar maka data itu akan terpisah dengan baik."
      ]
    },
    {
      "cell_type": "code",
      "metadata": {
        "id": "CKMpu7Do3nyM"
      },
      "source": [
        " def embedding_plot(X, title):\n",
        "     x_min, x_max = np.min(X, axis=0), np.max(X, axis=0)\n",
        "     X = (X - x_min) / (x_max - x_min)\n",
        "     plt.figure()\n",
        "     ax = plt.subplot(aspect='equal')\n",
        "     sc = ax.scatter(X[:,0], X[:,1], lw=0, s=40, c=y/10.)\n",
        "     shown_images = np.array([[1., 1.]])\n",
        "     for i in range(X.shape[0]):\n",
        "         if np.min(np.sum((X[i] - shown_images) ** 2, axis=1)) < 1e-2: continue\n",
        "         shown_images = np.r_[shown_images, [X[i]]]\n",
        "         ax.add_artist(offsetbox.AnnotationBbox(offsetbox.OffsetImage(digits.images[i], cmap=plt.cm.gray_r), X[i]))\n",
        "     plt.xticks([]), plt.yticks([])\n",
        "     plt.title(title)"
      ],
      "execution_count": null,
      "outputs": []
    },
    {
      "cell_type": "code",
      "metadata": {
        "id": "Boq2mlej3p26",
        "colab": {
          "base_uri": "https://localhost:8080/",
          "height": 268
        },
        "outputId": "5dce4f63-b46d-4c32-bef0-c260a2d08b9a"
      },
      "source": [
        " X_lda = discriminant_analysis.LinearDiscriminantAnalysis(n_components=2).fit_transform(X, y)\n",
        " embedding_plot(X_lda, \"LDA\")\n",
        " plt.show()"
      ],
      "execution_count": null,
      "outputs": [
        {
          "output_type": "display_data",
          "data": {
            "image/png": "[encoded data removed]",
            "text/plain": [
              "<Figure size 432x288 with 1 Axes>"
            ]
          },
          "metadata": {}
        }
      ]
    },
    {
      "cell_type": "code",
      "metadata": {
        "id": "28eTK2Vy3sQJ",
        "colab": {
          "base_uri": "https://localhost:8080/"
        },
        "outputId": "557ae3c0-47ee-4de5-d911-fe437c4fe583"
      },
      "source": [
        " X_lda"
      ],
      "execution_count": null,
      "outputs": [
        {
          "output_type": "execute_result",
          "data": {
            "text/plain": [
              "array([[-2.0146322 , -5.62348616],\n",
              "       [ 0.2209674 ,  3.59240033],\n",
              "       [ 2.23485453,  2.70950363],\n",
              "       ...,\n",
              "       [-1.04697178,  1.48367733],\n",
              "       [ 0.40787292, -1.99167301],\n",
              "       [ 0.17414501,  0.88717463]])"
            ]
          },
          "metadata": {},
          "execution_count": 49
        }
      ]
    },
    {
      "cell_type": "code",
      "metadata": {
        "colab": {
          "base_uri": "https://localhost:8080/",
          "height": 206
        },
        "id": "NvowpHxY2Ajh",
        "outputId": "179078d6-6382-4b89-dc86-570cffaf6583"
      },
      "source": [
        "#first reduxe de dimensin\n",
        "from sklearn import manifold, datasets, decomposition, discriminant_analysis\n",
        "\n",
        "lda = discriminant_analysis.LinearDiscriminantAnalysis(n_components=2).fit_transform(X, y)\n",
        "\n",
        "lda_df = pd.DataFrame(data = lda\n",
        "             , columns = ['new_var1', 'new_var2'])\n",
        "finalDf = pd.concat([lda_df, y_fix], axis = 1)\n",
        "finalDf.head()"
      ],
      "execution_count": null,
      "outputs": [
        {
          "output_type": "execute_result",
          "data": {
            "text/html": [
              "<div>\n",
              "<style scoped>\n",
              "    .dataframe tbody tr th:only-of-type {\n",
              "        vertical-align: middle;\n",
              "    }\n",
              "\n",
              "    .dataframe tbody tr th {\n",
              "        vertical-align: top;\n",
              "    }\n",
              "\n",
              "    .dataframe thead th {\n",
              "        text-align: right;\n",
              "    }\n",
              "</style>\n",
              "<table border=\"1\" class=\"dataframe\">\n",
              "  <thead>\n",
              "    <tr style=\"text-align: right;\">\n",
              "      <th></th>\n",
              "      <th>new_var1</th>\n",
              "      <th>new_var2</th>\n",
              "      <th>Species</th>\n",
              "    </tr>\n",
              "  </thead>\n",
              "  <tbody>\n",
              "    <tr>\n",
              "      <th>0</th>\n",
              "      <td>8.860520</td>\n",
              "      <td>0.998471</td>\n",
              "      <td>2.0</td>\n",
              "    </tr>\n",
              "    <tr>\n",
              "      <th>1</th>\n",
              "      <td>10.135538</td>\n",
              "      <td>0.776849</td>\n",
              "      <td>2.0</td>\n",
              "    </tr>\n",
              "    <tr>\n",
              "      <th>2</th>\n",
              "      <td>8.701235</td>\n",
              "      <td>0.000937</td>\n",
              "      <td>2.0</td>\n",
              "    </tr>\n",
              "    <tr>\n",
              "      <th>3</th>\n",
              "      <td>8.592589</td>\n",
              "      <td>1.014276</td>\n",
              "      <td>2.0</td>\n",
              "    </tr>\n",
              "    <tr>\n",
              "      <th>4</th>\n",
              "      <td>8.441014</td>\n",
              "      <td>1.211575</td>\n",
              "      <td>2.0</td>\n",
              "    </tr>\n",
              "  </tbody>\n",
              "</table>\n",
              "</div>"
            ],
            "text/plain": [
              "    new_var1  new_var2  Species\n",
              "0   8.860520  0.998471      2.0\n",
              "1  10.135538  0.776849      2.0\n",
              "2   8.701235  0.000937      2.0\n",
              "3   8.592589  1.014276      2.0\n",
              "4   8.441014  1.211575      2.0"
            ]
          },
          "metadata": {},
          "execution_count": 35
        }
      ]
    },
    {
      "cell_type": "code",
      "metadata": {
        "colab": {
          "base_uri": "https://localhost:8080/",
          "height": 523
        },
        "id": "_i6zPoXg2D6w",
        "outputId": "82eb4337-69c3-4064-bf13-e9dbfc5ff2da"
      },
      "source": [
        "fig = plt.figure(figsize = (8,8))\n",
        "ax = fig.add_subplot(1,1,1) \n",
        "ax.set_xlabel('New Var1', fontsize = 15)\n",
        "ax.set_ylabel('New Var2', fontsize = 15)\n",
        "ax.set_title('2 component LDA', fontsize = 20)\n",
        "targets = [1.0,2.0]\n",
        "colors = ['red', 'blue']\n",
        "for target, color in zip(targets,colors):\n",
        "    indicesToKeep = finalDf['Species'] == target\n",
        "    ax.scatter(finalDf.loc[indicesToKeep, 'new_var1']\n",
        "               , finalDf.loc[indicesToKeep, 'new_var2']\n",
        "               , c = color\n",
        "               , s = 50)\n",
        "ax.legend([\"Perch\", \"Bream\", \"Roach\",\"Pike\",\"Smelt\",\"Parkki\",\"Whitefish\"])\n",
        "ax.grid()"
      ],
      "execution_count": null,
      "outputs": [
        {
          "output_type": "display_data",
          "data": {
            "image/png": "[encoded data removed]",
            "text/plain": [
              "<Figure size 576x576 with 1 Axes>"
            ]
          },
          "metadata": {
            "needs_background": "light"
          }
        }
      ]
    },
    {
      "cell_type": "markdown",
      "metadata": {
        "id": "a5VodS3a3Sl_"
      },
      "source": [
        "2. PCA"
      ]
    },
    {
      "cell_type": "markdown",
      "metadata": {
        "id": "AYjMnuW20DXp"
      },
      "source": [
        "PCA bekerja untuk menghitung varuance dari tiap atribut"
      ]
    },
    {
      "cell_type": "code",
      "metadata": {
        "id": "YXWmI4u22uzF",
        "colab": {
          "base_uri": "https://localhost:8080/",
          "height": 206
        },
        "outputId": "928e5a14-d1dc-4490-8af6-b2b976219065"
      },
      "source": [
        "#first reduxe de dimensin\n",
        "from sklearn.decomposition import PCA\n",
        "\n",
        "pca = PCA(n_components=2)\n",
        "principalComponents = pca.fit_transform(X_fix)\n",
        "principalDf = pd.DataFrame(data = principalComponents\n",
        "             , columns = ['principal component 1', 'principal component 2'])\n",
        "finalDf = pd.concat([principalDf, y_fix], axis = 1)\n",
        "finalDf.head()"
      ],
      "execution_count": null,
      "outputs": [
        {
          "output_type": "execute_result",
          "data": {
            "text/html": [
              "<div>\n",
              "<style scoped>\n",
              "    .dataframe tbody tr th:only-of-type {\n",
              "        vertical-align: middle;\n",
              "    }\n",
              "\n",
              "    .dataframe tbody tr th {\n",
              "        vertical-align: top;\n",
              "    }\n",
              "\n",
              "    .dataframe thead th {\n",
              "        text-align: right;\n",
              "    }\n",
              "</style>\n",
              "<table border=\"1\" class=\"dataframe\">\n",
              "  <thead>\n",
              "    <tr style=\"text-align: right;\">\n",
              "      <th></th>\n",
              "      <th>principal component 1</th>\n",
              "      <th>principal component 2</th>\n",
              "      <th>Species</th>\n",
              "    </tr>\n",
              "  </thead>\n",
              "  <tbody>\n",
              "    <tr>\n",
              "      <th>0</th>\n",
              "      <td>-0.023239</td>\n",
              "      <td>-0.163746</td>\n",
              "      <td>2.0</td>\n",
              "    </tr>\n",
              "    <tr>\n",
              "      <th>1</th>\n",
              "      <td>0.052538</td>\n",
              "      <td>-0.190521</td>\n",
              "      <td>2.0</td>\n",
              "    </tr>\n",
              "    <tr>\n",
              "      <th>2</th>\n",
              "      <td>0.088388</td>\n",
              "      <td>-0.181787</td>\n",
              "      <td>2.0</td>\n",
              "    </tr>\n",
              "    <tr>\n",
              "      <th>3</th>\n",
              "      <td>0.135009</td>\n",
              "      <td>-0.156899</td>\n",
              "      <td>2.0</td>\n",
              "    </tr>\n",
              "    <tr>\n",
              "      <th>4</th>\n",
              "      <td>0.194147</td>\n",
              "      <td>-0.133827</td>\n",
              "      <td>2.0</td>\n",
              "    </tr>\n",
              "  </tbody>\n",
              "</table>\n",
              "</div>"
            ],
            "text/plain": [
              "   principal component 1  principal component 2  Species\n",
              "0              -0.023239              -0.163746      2.0\n",
              "1               0.052538              -0.190521      2.0\n",
              "2               0.088388              -0.181787      2.0\n",
              "3               0.135009              -0.156899      2.0\n",
              "4               0.194147              -0.133827      2.0"
            ]
          },
          "metadata": {},
          "execution_count": 40
        }
      ]
    },
    {
      "cell_type": "code",
      "metadata": {
        "id": "0Lr6qdQz2uxj",
        "colab": {
          "base_uri": "https://localhost:8080/",
          "height": 523
        },
        "outputId": "4ebf30ca-5b56-4a9c-9bfc-105e84afa273"
      },
      "source": [
        "fig = plt.figure(figsize = (8,8))\n",
        "ax = fig.add_subplot(1,1,1) \n",
        "ax.set_xlabel('Principal Component 1', fontsize = 15)\n",
        "ax.set_ylabel('Principal Component 2', fontsize = 15)\n",
        "ax.set_title('2 component PCA', fontsize = 20)\n",
        "targets = [1.0,2.0]\n",
        "colors = ['black', 'green']\n",
        "for target, color in zip(targets,colors):\n",
        "    indicesToKeep = finalDf['Species'] == target\n",
        "    ax.scatter(finalDf.loc[indicesToKeep, 'principal component 1']\n",
        "               , finalDf.loc[indicesToKeep, 'principal component 2']\n",
        "               , c = color\n",
        "               , s = 50)\n",
        "ax.legend([\"Perch\", \"Bream\", \"Roach\",\"Pike\",\"Smelt\",\"Parkki\",\"Whitefish\"])\n",
        "ax.grid()"
      ],
      "execution_count": null,
      "outputs": [
        {
          "output_type": "display_data",
          "data": {
            "image/png": "[encoded data removed]",
            "text/plain": [
              "<Figure size 576x576 with 1 Axes>"
            ]
          },
          "metadata": {
            "needs_background": "light"
          }
        }
      ]
    },
    {
      "cell_type": "code",
      "metadata": {
        "id": "tl9ZFzMF28UQ",
        "colab": {
          "base_uri": "https://localhost:8080/"
        },
        "outputId": "70697880-5dba-494c-f077-8f3171a94f1e"
      },
      "source": [
        "from sklearn.manifold import TSNE\n",
        "tsne = TSNE(n_components=2, random_state=0)\n",
        "X_2d = tsne.fit_transform(X_fix)\n",
        "print(X_2d)"
      ],
      "execution_count": null,
      "outputs": [
        {
          "output_type": "stream",
          "name": "stdout",
          "text": [
            "[[  2.9721246    1.9460177 ]\n",
            " [  2.5309587    2.6354494 ]\n",
            " [  2.2349603    2.9226198 ]\n",
            " [  1.8874853    3.5137715 ]\n",
            " [  1.2138802    3.6600296 ]\n",
            " [  1.0746905    4.1923156 ]\n",
            " [  0.42948404   4.448856  ]\n",
            " [  1.5706857    3.8692842 ]\n",
            " [  1.0348294    4.4315057 ]\n",
            " [  0.63410604   4.9288116 ]\n",
            " [  0.4864454    4.7437983 ]\n",
            " [  0.78754866   5.114605  ]\n",
            " [  1.3117561    4.9404774 ]\n",
            " [  1.2508944    4.656132  ]\n",
            " [  0.0539627    5.433864  ]\n",
            " [ -0.48422232   5.302341  ]\n",
            " [ -0.5815966    5.6565495 ]\n",
            " [ -0.37076703   5.921363  ]\n",
            " [ -0.15050203   5.9670095 ]\n",
            " [ -1.0328015    5.2728543 ]\n",
            " [ -0.7949867    5.400996  ]\n",
            " [ -0.9008193    6.2120814 ]\n",
            " [ -0.5718133    6.0756154 ]\n",
            " [ -1.6485621    5.7167363 ]\n",
            " [ -1.2525202    6.2814283 ]\n",
            " [ -1.7805849    6.188502  ]\n",
            " [ -1.8008057    6.155059  ]\n",
            " [ -1.682788     6.4239626 ]\n",
            " [ -2.410467     6.4527545 ]\n",
            " [ -3.2038653    6.9076757 ]\n",
            " [ -3.033774     6.577453  ]\n",
            " [ -3.1085448    6.600431  ]\n",
            " [ -3.451224     6.669572  ]\n",
            " [ -3.6370697    6.5598545 ]\n",
            " [ -3.5160816    6.316695  ]\n",
            " [ 12.200208    -8.6238985 ]\n",
            " [ 10.686652    -7.139204  ]\n",
            " [ 10.136521    -6.8411837 ]\n",
            " [  9.7954035   -5.9836416 ]\n",
            " [  9.201313    -5.0959725 ]\n",
            " [  8.823895    -6.1625    ]\n",
            " [  8.799726    -5.363126  ]\n",
            " [  8.63045     -5.437793  ]\n",
            " [  8.163032    -3.6451895 ]\n",
            " [  7.496032    -4.504854  ]\n",
            " [  6.6163745   -3.9138844 ]\n",
            " [  7.450973    -4.812345  ]\n",
            " [  7.3054314   -3.6269505 ]\n",
            " [  5.6633554   -3.1906126 ]\n",
            " [  6.4163895   -3.5400321 ]\n",
            " [  5.378762    -2.7624776 ]\n",
            " [  5.3079066   -2.580419  ]\n",
            " [  3.7940898   -0.54833657]\n",
            " [  3.3832576   -0.7014156 ]\n",
            " [  0.38476458   1.1477351 ]\n",
            " [  4.2387996   -1.0542889 ]\n",
            " [  4.141847    -1.1841645 ]\n",
            " [  3.2407067   -0.5935638 ]\n",
            " [ -1.8393215    2.4791512 ]\n",
            " [ -3.5339463    3.0951016 ]\n",
            " [ -4.76721      3.7515352 ]\n",
            " [ 10.700222    -8.386746  ]\n",
            " [ 10.699339    -8.283653  ]\n",
            " [  9.518114    -7.8433824 ]\n",
            " [  6.812336    -6.9976573 ]\n",
            " [  6.19361     -6.653742  ]\n",
            " [  6.26678     -6.551276  ]\n",
            " [  5.867278    -6.4882097 ]\n",
            " [  5.773667    -6.4784946 ]\n",
            " [  5.089458    -5.884693  ]\n",
            " [  3.0866728    1.6611139 ]\n",
            " [  2.8579051    1.9923594 ]\n",
            " [ 13.669319   -10.455603  ]\n",
            " [ 12.61999     -9.081709  ]\n",
            " [ 12.191119    -8.421584  ]\n",
            " [ 11.571812    -7.853169  ]\n",
            " [ 11.232545    -7.1990323 ]\n",
            " [ 10.873553    -6.290939  ]\n",
            " [ 10.758882    -6.588944  ]\n",
            " [ 10.165416    -6.629292  ]\n",
            " [ 10.367887    -6.3331966 ]\n",
            " [ 10.392851    -6.863846  ]\n",
            " [  9.33891     -4.787635  ]\n",
            " [  9.245784    -5.441574  ]\n",
            " [  9.277365    -4.4431224 ]\n",
            " [  8.244704    -5.1031656 ]\n",
            " [  8.315683    -4.961494  ]\n",
            " [  8.884942    -4.342562  ]\n",
            " [  8.247484    -4.6233892 ]\n",
            " [  8.558115    -4.447842  ]\n",
            " [  8.914198    -3.4397292 ]\n",
            " [  8.294116    -4.0582304 ]\n",
            " [  7.2297974   -4.327205  ]\n",
            " [  8.001789    -3.9675264 ]\n",
            " [  8.598118    -3.4875743 ]\n",
            " [  7.296337    -3.430079  ]\n",
            " [  5.921712    -3.3841226 ]\n",
            " [  6.9593725   -3.1426406 ]\n",
            " [  5.685372    -2.4221704 ]\n",
            " [  6.463395    -2.8474226 ]\n",
            " [  5.0883536   -2.1994753 ]\n",
            " [  4.5055904   -2.0219135 ]\n",
            " [  3.0493073   -0.7023473 ]\n",
            " [  3.8987608   -1.83487   ]\n",
            " [  3.8689737   -1.9053274 ]\n",
            " [  3.5624404   -1.6553034 ]\n",
            " [  3.8216946   -1.4912572 ]\n",
            " [  3.111001    -1.3785824 ]\n",
            " [  2.6973667   -1.2504816 ]\n",
            " [ -1.6735405    2.2481103 ]\n",
            " [ -2.3063617    2.4264686 ]\n",
            " [ -3.9058995    3.6069298 ]\n",
            " [ -3.2913136    2.8332627 ]\n",
            " [ -3.1739123    2.7713194 ]\n",
            " [ -3.1043053    2.547266  ]\n",
            " [ -3.1137877    2.5109186 ]\n",
            " [ -4.593944     2.9627175 ]\n",
            " [ -3.2237418    2.2195928 ]\n",
            " [ -4.314381     3.3996081 ]\n",
            " [ -4.411613     3.0703492 ]\n",
            " [ -4.6241655    3.109467  ]\n",
            " [ -5.012261     3.5585952 ]\n",
            " [ -4.106211     2.649841  ]\n",
            " [ -5.3092084    3.7418518 ]\n",
            " [ -5.232792     2.981205  ]\n",
            " [ -5.520507     3.3979003 ]\n",
            " [ -5.6336713    3.081121  ]\n",
            " [ -5.4834576    3.001583  ]\n",
            " [  0.7112616   -2.1721349 ]\n",
            " [  0.17493127  -1.9199249 ]\n",
            " [ -0.07075319  -1.8255045 ]\n",
            " [ -0.37284812  -1.7813225 ]\n",
            " [ -0.9233205   -1.4776806 ]\n",
            " [ -0.66591096  -1.6883461 ]\n",
            " [ -1.5837643   -1.2986773 ]\n",
            " [ -1.6670969   -1.2568214 ]\n",
            " [ -2.0367708   -0.96379846]\n",
            " [ -2.046836    -1.0674311 ]\n",
            " [ -2.2641644   -0.9374607 ]\n",
            " [ -2.8605785   -0.54473   ]\n",
            " [ -4.763488     0.7851359 ]\n",
            " [ -5.3332696    1.2580869 ]\n",
            " [ 13.98583    -10.184094  ]\n",
            " [ 14.038784    -9.890926  ]\n",
            " [ 14.10375     -9.862558  ]\n",
            " [ 13.1280985  -10.009593  ]\n",
            " [ 13.294827   -10.055459  ]\n",
            " [ 13.456292    -9.962322  ]\n",
            " [ 13.144273    -9.812159  ]\n",
            " [ 13.972332    -9.37626   ]\n",
            " [ 13.972846    -9.350291  ]\n",
            " [ 13.579598    -9.282823  ]\n",
            " [ 13.360614    -9.499334  ]\n",
            " [ 13.699979    -9.121257  ]\n",
            " [ 12.819402    -8.930204  ]\n",
            " [ 12.957623    -8.826447  ]]\n"
          ]
        }
      ]
    },
    {
      "cell_type": "code",
      "metadata": {
        "id": "InMCEQOn3DPw",
        "colab": {
          "base_uri": "https://localhost:8080/",
          "height": 206
        },
        "outputId": "82f3bb3e-fd1b-434d-d653-aeaba6322274"
      },
      "source": [
        "new_df = pd.DataFrame(data = X_2d\n",
        "             , columns = ['feature 1', 'feature 2'])\n",
        "tsne_df = pd.concat([new_df, y_fix], axis = 1)\n",
        "tsne_df.head()"
      ],
      "execution_count": null,
      "outputs": [
        {
          "output_type": "execute_result",
          "data": {
            "text/html": [
              "<div>\n",
              "<style scoped>\n",
              "    .dataframe tbody tr th:only-of-type {\n",
              "        vertical-align: middle;\n",
              "    }\n",
              "\n",
              "    .dataframe tbody tr th {\n",
              "        vertical-align: top;\n",
              "    }\n",
              "\n",
              "    .dataframe thead th {\n",
              "        text-align: right;\n",
              "    }\n",
              "</style>\n",
              "<table border=\"1\" class=\"dataframe\">\n",
              "  <thead>\n",
              "    <tr style=\"text-align: right;\">\n",
              "      <th></th>\n",
              "      <th>feature 1</th>\n",
              "      <th>feature 2</th>\n",
              "      <th>Species</th>\n",
              "    </tr>\n",
              "  </thead>\n",
              "  <tbody>\n",
              "    <tr>\n",
              "      <th>0</th>\n",
              "      <td>2.972125</td>\n",
              "      <td>1.946018</td>\n",
              "      <td>2.0</td>\n",
              "    </tr>\n",
              "    <tr>\n",
              "      <th>1</th>\n",
              "      <td>2.530959</td>\n",
              "      <td>2.635449</td>\n",
              "      <td>2.0</td>\n",
              "    </tr>\n",
              "    <tr>\n",
              "      <th>2</th>\n",
              "      <td>2.234960</td>\n",
              "      <td>2.922620</td>\n",
              "      <td>2.0</td>\n",
              "    </tr>\n",
              "    <tr>\n",
              "      <th>3</th>\n",
              "      <td>1.887485</td>\n",
              "      <td>3.513772</td>\n",
              "      <td>2.0</td>\n",
              "    </tr>\n",
              "    <tr>\n",
              "      <th>4</th>\n",
              "      <td>1.213880</td>\n",
              "      <td>3.660030</td>\n",
              "      <td>2.0</td>\n",
              "    </tr>\n",
              "  </tbody>\n",
              "</table>\n",
              "</div>"
            ],
            "text/plain": [
              "   feature 1  feature 2  Species\n",
              "0   2.972125   1.946018      2.0\n",
              "1   2.530959   2.635449      2.0\n",
              "2   2.234960   2.922620      2.0\n",
              "3   1.887485   3.513772      2.0\n",
              "4   1.213880   3.660030      2.0"
            ]
          },
          "metadata": {},
          "execution_count": 43
        }
      ]
    },
    {
      "cell_type": "markdown",
      "metadata": {
        "id": "2QLZw81Y3VbA"
      },
      "source": [
        "3. t-SNE"
      ]
    },
    {
      "cell_type": "markdown",
      "metadata": {
        "id": "6AD3NLF50K5b"
      },
      "source": [
        "Ini adalah tekhnik reduksi nonlinear cocok untuk data memvisualisasikan data yang berdimensi tinggi ke data yang lebih rendah (3D ke 2D)"
      ]
    },
    {
      "cell_type": "code",
      "metadata": {
        "id": "Fhl0_0a83HJb",
        "colab": {
          "base_uri": "https://localhost:8080/",
          "height": 523
        },
        "outputId": "620f3abd-cb77-4258-8cf1-bd0aec833378"
      },
      "source": [
        "fig = plt.figure(figsize = (8,8))\n",
        "ax = fig.add_subplot(1,1,1) \n",
        "ax.set_xlabel('feature 1', fontsize = 15)\n",
        "ax.set_ylabel('feature 2', fontsize = 15)\n",
        "ax.set_title('2D t-SNE ', fontsize = 20)\n",
        "targets = [1.0,2.0]\n",
        "colors = ['black', 'violet']\n",
        "for target, color in zip(targets,colors):\n",
        "    indicesToKeep = tsne_df['Species'] == target\n",
        "    ax.scatter(tsne_df.loc[indicesToKeep, 'feature 1']\n",
        "               , tsne_df.loc[indicesToKeep, 'feature 2']\n",
        "               , c = color\n",
        "               , s = 50)\n",
        "ax.legend([\"Perch\", \"Bream\", \"Roach\",\"Pike\",\"Smelt\",\"Parkki\",\"Whitefish\"])\n",
        "ax.grid()"
      ],
      "execution_count": null,
      "outputs": [
        {
          "output_type": "display_data",
          "data": {
            "image/png": "[encoded data removed]",
            "text/plain": [
              "<Figure size 576x576 with 1 Axes>"
            ]
          },
          "metadata": {
            "needs_background": "light"
          }
        }
      ]
    }
  ]
}
