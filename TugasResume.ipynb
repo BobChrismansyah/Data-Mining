{
  "nbformat": 4,
  "nbformat_minor": 0,
  "metadata": {
    "colab": {
      "name": "Untitled7.ipynb",
      "provenance": [],
      "collapsed_sections": [],
      "toc_visible": true,
      "authorship_tag": "ABX9TyPALmcH/0AZ+CTVy/uk5tLC",
      "include_colab_link": true
    },
    "kernelspec": {
      "name": "python3",
      "display_name": "Python 3"
    },
    "language_info": {
      "name": "python"
    }
  },
  "cells": [
    {
      "cell_type": "markdown",
      "metadata": {
        "id": "view-in-github",
        "colab_type": "text"
      },
      "source": [
        "<a href=\"https://colab.research.google.com/github/BobChrismansyah/Data-Mining/blob/main/TugasResume.ipynb\" target=\"_parent\"><img src=\"https://colab.research.google.com/assets/colab-badge.svg\" alt=\"Open In Colab\"/></a>"
      ]
    },
    {
      "cell_type": "markdown",
      "metadata": {
        "id": "trkr9YuI_XBz"
      },
      "source": [
        "# Tugas Data Mining\n",
        "- Nama  : Bob Chrismansyah Pata'dungan Kabanga\n",
        "\n",
        "- NIM : H07120108"
      ]
    },
    {
      "cell_type": "markdown",
      "metadata": {
        "id": "z4xWDPye3qNn"
      },
      "source": [
        "# Mengambil data dari Kaggle\n",
        "\n",
        "Untuk pengambilan data kita menggunakan library os"
      ]
    },
    {
      "cell_type": "code",
      "metadata": {
        "id": "WSA_QV_i3p8Q"
      },
      "source": [
        "import cv2\n",
        "import numpy as np\n",
        "import os\n",
        "import pandas as pd\n",
        "import matplotlib.pyplot as plt\n",
        "from google.colab.patches import cv_imshow\n",
        "import tensorflow as tf\n",
        "from keras.preprocessing.image import img_to_array\n"
      ],
      "execution_count": 6,
      "outputs": []
    },
    {
      "cell_type": "markdown",
      "metadata": {
        "id": "m5icXlxe8Uu5"
      },
      "source": [
        "- masuk ke kaggle.com\n",
        "- untuk membuat API, pilih profil ujung kanan atas\n",
        "- klik create new API token\n",
        "- download file dan copy isinya"
      ]
    },
    {
      "cell_type": "code",
      "metadata": {
        "id": "Ge3C-BJn838b"
      },
      "source": [
        "os.environ['KAGGLE_USERNAME'] = \"bobchrismansyah\"\n",
        "os.environ['KAGGLE_KEY'] = \"04c7b7d9ea8f4dccd7149cbfe3cc72d4\""
      ],
      "execution_count": 7,
      "outputs": []
    },
    {
      "cell_type": "markdown",
      "metadata": {
        "id": "n92uBu2s9Fbw"
      },
      "source": [
        "setelah itu masukkan perintah berukut dan masukkan link dataset dari kaggle"
      ]
    },
    {
      "cell_type": "code",
      "metadata": {
        "colab": {
          "base_uri": "https://localhost:8080/"
        },
        "id": "JDe_0u0t9Bqc",
        "outputId": "01781a78-b03f-4b77-e414-e1b10cf9866f"
      },
      "source": [
        "!kaggle datasets download -d muhammadkhalid/most-popular-programming-languages-since-2004"
      ],
      "execution_count": 10,
      "outputs": [
        {
          "output_type": "stream",
          "name": "stdout",
          "text": [
            "Downloading most-popular-programming-languages-since-2004.zip to /content\n",
            "\r  0% 0.00/11.6k [00:00<?, ?B/s]\n",
            "\r100% 11.6k/11.6k [00:00<00:00, 5.14MB/s]\n"
          ]
        }
      ]
    },
    {
      "cell_type": "markdown",
      "metadata": {
        "id": "3GUlaMFE9q1Y"
      },
      "source": [
        "mendownload file tersebut extrack file tersebut untuk mendapatkan file\n",
        "berformat .csv"
      ]
    },
    {
      "cell_type": "markdown",
      "metadata": {
        "id": "ITEYEJnD9vSA"
      },
      "source": [
        "# Mengambil Data dari File berformat .json"
      ]
    },
    {
      "cell_type": "markdown",
      "metadata": {
        "id": "wSyIGOzk9zcN"
      },
      "source": [
        "- improt json"
      ]
    },
    {
      "cell_type": "code",
      "metadata": {
        "id": "-vitQ2GI9yWM"
      },
      "source": [
        "import json"
      ],
      "execution_count": 11,
      "outputs": []
    },
    {
      "cell_type": "code",
      "metadata": {
        "id": "bagG6Ro094QY"
      },
      "source": [
        "f = open('/content/sample_data/anscombe.json_')\n",
        "data3 = json.load(f)\n",
        "data3"
      ],
      "execution_count": null,
      "outputs": []
    },
    {
      "cell_type": "markdown",
      "metadata": {
        "id": "9SPQpPT5-gAj"
      },
      "source": [
        "# Mengambil data dengan package yang belum tersedia"
      ]
    },
    {
      "cell_type": "code",
      "metadata": {
        "colab": {
          "base_uri": "https://localhost:8080/"
        },
        "id": "jdz1IWvu-foL",
        "outputId": "3d0f048a-ec81-4916-8584-738e1a3ab6db"
      },
      "source": [
        "pip install pyreadstat"
      ],
      "execution_count": 13,
      "outputs": [
        {
          "output_type": "stream",
          "name": "stdout",
          "text": [
            "Collecting pyreadstat\n",
            "  Downloading pyreadstat-1.1.2-cp37-cp37m-manylinux2014_x86_64.whl (2.5 MB)\n",
            "\u001b[K     |████████████████████████████████| 2.5 MB 3.1 MB/s \n",
            "\u001b[?25hRequirement already satisfied: pandas>0.24.0 in /usr/local/lib/python3.7/dist-packages (from pyreadstat) (1.1.5)\n",
            "Requirement already satisfied: pytz>=2017.2 in /usr/local/lib/python3.7/dist-packages (from pandas>0.24.0->pyreadstat) (2018.9)\n",
            "Requirement already satisfied: python-dateutil>=2.7.3 in /usr/local/lib/python3.7/dist-packages (from pandas>0.24.0->pyreadstat) (2.8.2)\n",
            "Requirement already satisfied: numpy>=1.15.4 in /usr/local/lib/python3.7/dist-packages (from pandas>0.24.0->pyreadstat) (1.19.5)\n",
            "Requirement already satisfied: six>=1.5 in /usr/local/lib/python3.7/dist-packages (from python-dateutil>=2.7.3->pandas>0.24.0->pyreadstat) (1.15.0)\n",
            "Installing collected packages: pyreadstat\n",
            "Successfully installed pyreadstat-1.1.2\n"
          ]
        }
      ]
    },
    {
      "cell_type": "code",
      "metadata": {
        "id": "RBF0D8Oi-odT"
      },
      "source": [
        "import pyreadstat"
      ],
      "execution_count": null,
      "outputs": []
    },
    {
      "cell_type": "markdown",
      "metadata": {
        "id": "amQzon7c_Mlz"
      },
      "source": [
        "path di bawah ini hanya contoh jadi filenya akan error"
      ]
    },
    {
      "cell_type": "code",
      "metadata": {
        "id": "7-oGI6Vo-sy3"
      },
      "source": [
        "df_Sulawesi, meta = pyreadstat.read_sav('content/drive/MyDrive/Dataset/Sulawesi (1).sav')"
      ],
      "execution_count": null,
      "outputs": []
    },
    {
      "cell_type": "markdown",
      "metadata": {
        "id": "OfdksOeB-96H"
      },
      "source": [
        "# Mengambil data dari penyimpanan drive"
      ]
    },
    {
      "cell_type": "markdown",
      "metadata": {
        "id": "kUzrY5E0_Ip6"
      },
      "source": [
        "copykan path file dataset dari drive\n",
        "\n",
        "jadi filenya akan error"
      ]
    },
    {
      "cell_type": "code",
      "metadata": {
        "id": "q54fIQFa-9nf"
      },
      "source": [
        "path = os.listdir(\"../content drive/MyDrive/......\")"
      ],
      "execution_count": null,
      "outputs": []
    },
    {
      "cell_type": "code",
      "metadata": {
        "id": "hR83DnZe_nlf"
      },
      "source": [
        ""
      ],
      "execution_count": null,
      "outputs": []
    }
  ]
}